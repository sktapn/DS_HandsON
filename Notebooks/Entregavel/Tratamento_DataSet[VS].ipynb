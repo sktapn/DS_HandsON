{
 "cells": [
  {
   "cell_type": "markdown",
   "metadata": {},
   "source": [
    "DIFERENÇAS REGIONAIS NA PREVALÊNCIA DA DESNUTRIÇÃO INFANTIL NO BRASIL\n",
    "\n",
    "Este notebook realiza o carregamento de um dataset, selecionando apenas as colunas relevantes para a análise. Em seguida, procede com a remoção de colunas desnecessárias, o cálculo da porcentagem de dados ausentes e a formatação dos nomes das colunas. Por fim, gera um novo dataset com as variáveis selecionadas e o exporta para um arquivo CSV."
   ]
  },
  {
   "cell_type": "code",
   "execution_count": 19,
   "metadata": {},
   "outputs": [],
   "source": [
    "# Importar a biblioetca \n",
    "import pandas as pd"
   ]
  },
  {
   "cell_type": "code",
   "execution_count": 20,
   "metadata": {},
   "outputs": [],
   "source": [
    "# Lista de colunas que você deseja manter no dataset\n",
    "colunas_que_eu_quero = [\n",
    "    'a00_regiao', 'a06_domicilio', 'p03_ocupacao', 'a11_situacao', 'b00_numero', 'b02_sexo', 'b03_relacao',\n",
    "    'b04_idade', 'b05_data', 'b05a_idade_em_meses', 'bb04_idade_da_mae', 'p02_tipo_de_domicilio', 'p06_cozinha',\n",
    "    'h02_peso', 'h03_altura', 'h11_alergia', 'h13_diarreia', 'h14_tosse', 'h15_respiracao', 'e01_leite_peito',\n",
    "    'e07_leite_vaca_liquido', 'e06_leite_vaca_po', 'e05_cha', 'e10_formula_infantil', 'e16_comida_sal',\n",
    "    'e22_legumes', 'e26_feijao', 'e27_carne', 'e33_refrigerante', 'e31_salgadinhos', 'e35_biscoito',\n",
    "    'l01_morador_alim_acabassem', 'l02_morador_alim_acabaram', 'l03_morador_saudavel', 'i004_2m_cabeca',\n",
    "    'i028_6m_mao', 'vd_zhfa', 'vd_zwaz', 'vd_zimc'\n",
    "]"
   ]
  },
  {
   "cell_type": "code",
   "execution_count": 21,
   "metadata": {},
   "outputs": [],
   "source": [
    "# Carregar o dataset com as colunas selecionadas\n",
    "dataset = pd.read_csv(\n",
    "    r'C:\\Users\\Alunos\\Downloads\\HandsON---Data-Science-UFRR-main (1)\\HandsON---Data-Science-UFRR-main\\data_bioq_calib_anon_22_Ajustado.csv',\n",
    "    on_bad_lines='skip', sep=';', usecols=colunas_que_eu_quero\n",
    ")"
   ]
  },
  {
   "cell_type": "code",
   "execution_count": 22,
   "metadata": {},
   "outputs": [
    {
     "name": "stdout",
     "output_type": "stream",
     "text": [
      "Index(['a00_regiao', 'a06_domicilio', 'a11_situacao', 'b00_numero', 'b02_sexo',\n",
      "       'b03_relacao', 'b04_idade', 'b05_data', 'b05a_idade_em_meses',\n",
      "       'bb04_idade_da_mae', 'e01_leite_peito', 'e05_cha', 'e06_leite_vaca_po',\n",
      "       'e07_leite_vaca_liquido', 'e10_formula_infantil', 'e16_comida_sal',\n",
      "       'e22_legumes', 'e26_feijao', 'e27_carne', 'e31_salgadinhos',\n",
      "       'e33_refrigerante', 'e35_biscoito', 'h02_peso', 'h03_altura',\n",
      "       'h11_alergia', 'h13_diarreia', 'h14_tosse', 'h15_respiracao',\n",
      "       'i004_2m_cabeca', 'i028_6m_mao', 'l01_morador_alim_acabassem',\n",
      "       'l02_morador_alim_acabaram', 'l03_morador_saudavel',\n",
      "       'p02_tipo_de_domicilio', 'p03_ocupacao', 'p06_cozinha', 'vd_zwaz',\n",
      "       'vd_zimc', 'vd_zhfa'],\n",
      "      dtype='object')\n"
     ]
    }
   ],
   "source": [
    "# Exibir as colunas do dataset para verificação\n",
    "print(dataset.columns)"
   ]
  },
  {
   "cell_type": "code",
   "execution_count": 23,
   "metadata": {},
   "outputs": [],
   "source": [
    "# Salvar o dataset filtrado em um novo arquivo CSV\n",
    "dataset.to_csv(\"dataset_filtrado.csv\", index=False)"
   ]
  },
  {
   "cell_type": "code",
   "execution_count": 24,
   "metadata": {},
   "outputs": [
    {
     "name": "stdout",
     "output_type": "stream",
     "text": [
      "  a00_regiao  a06_domicilio a11_situacao  b00_numero   b02_sexo  \\\n",
      "0      Norte            NaN       Urbano           2  Masculino   \n",
      "1      Norte            NaN       Urbano           3   Feminino   \n",
      "2      Norte            NaN       Urbano           2   Feminino   \n",
      "3      Norte            NaN       Urbano           3  Masculino   \n",
      "4      Norte            NaN       Urbano           2   Feminino   \n",
      "\n",
      "            b03_relacao  b04_idade  b05_data b05a_idade_em_meses  \\\n",
      "0  Filho(a), enteado(a)          1  11092017            22 meses   \n",
      "1  Filho(a), enteado(a)          4   6042015            51 meses   \n",
      "2  Filho(a), enteado(a)          2  21122016            30 meses   \n",
      "3  Filho(a), enteado(a)          4  13112014            56 meses   \n",
      "4  Filho(a), enteado(a)          0   2092018            10 meses   \n",
      "\n",
      "   bb04_idade_da_mae  ... i028_6m_mao l01_morador_alim_acabassem  \\\n",
      "0               27.0  ...         NaN                        Sim   \n",
      "1               27.0  ...         NaN                        Sim   \n",
      "2               22.0  ...         NaN                        Sim   \n",
      "3               22.0  ...         NaN                        Sim   \n",
      "4               33.0  ...         NaN                        Sim   \n",
      "\n",
      "  l02_morador_alim_acabaram l03_morador_saudavel p02_tipo_de_domicilio  \\\n",
      "0                       Não                  Sim           Apartamento   \n",
      "1                       Não                  Sim           Apartamento   \n",
      "2                       Sim                  Sim                  Casa   \n",
      "3                       Sim                  Sim                  Casa   \n",
      "4                       Não                  Sim                  Casa   \n",
      "\n",
      "                         p03_ocupacao p06_cozinha vd_zwaz vd_zimc vd_zhfa  \n",
      "0               Cedido de outra forma         Sim    -0,2    -0,2     NaN  \n",
      "1               Cedido de outra forma         Sim    -0,5      -1     NaN  \n",
      "2               Cedido de outra forma         Sim    -0,3    -0,7     NaN  \n",
      "3               Cedido de outra forma         Sim     0,1    -0,7     NaN  \n",
      "4  Próprio de algum morador - já pago         Não    -0,6    -0,8     NaN  \n",
      "\n",
      "[5 rows x 39 columns]\n"
     ]
    }
   ],
   "source": [
    "# Exibir as primeiras 5 linhas do dataset\n",
    "print(dataset.head(5))"
   ]
  },
  {
   "cell_type": "code",
   "execution_count": 25,
   "metadata": {},
   "outputs": [],
   "source": [
    "# Função para \"embelezar\" os nomes das colunas\n",
    "def embelezar(nome_coluna: str):\n",
    "    return str.join(\" \", nome_coluna.split(\"_\")[1:]).capitalize()"
   ]
  },
  {
   "cell_type": "code",
   "execution_count": 26,
   "metadata": {},
   "outputs": [
    {
     "name": "stdout",
     "output_type": "stream",
     "text": [
      "Idade da mae\n"
     ]
    }
   ],
   "source": [
    "# Aplicar a função de embelezamento (exemplo de uso para uma coluna)\n",
    "col = \"bb04_idade_da_mae\"\n",
    "print(embelezar(col))"
   ]
  },
  {
   "cell_type": "code",
   "execution_count": 27,
   "metadata": {},
   "outputs": [
    {
     "name": "stdout",
     "output_type": "stream",
     "text": [
      "a00_regiao                      0.000000\n",
      "a06_domicilio                 100.000000\n",
      "a11_situacao                    0.000000\n",
      "b00_numero                      0.000000\n",
      "b02_sexo                        0.000000\n",
      "b03_relacao                     0.000000\n",
      "b04_idade                       0.000000\n",
      "b05_data                        0.000000\n",
      "b05a_idade_em_meses             0.000000\n",
      "bb04_idade_da_mae               0.075560\n",
      "e01_leite_peito                 0.000000\n",
      "e05_cha                         0.000000\n",
      "e06_leite_vaca_po               0.000000\n",
      "e07_leite_vaca_liquido          0.000000\n",
      "e10_formula_infantil            0.000000\n",
      "e16_comida_sal                  0.000000\n",
      "e22_legumes                     0.000000\n",
      "e26_feijao                      0.000000\n",
      "e27_carne                       0.000000\n",
      "e31_salgadinhos                 0.000000\n",
      "e33_refrigerante                0.000000\n",
      "e35_biscoito                    0.000000\n",
      "h02_peso                        0.000000\n",
      "h03_altura                      0.000000\n",
      "h11_alergia                     0.000000\n",
      "h13_diarreia                    0.000000\n",
      "h14_tosse                       0.000000\n",
      "h15_respiracao                  0.000000\n",
      "i004_2m_cabeca                 92.718780\n",
      "i028_6m_mao                    95.054266\n",
      "l01_morador_alim_acabassem      0.000000\n",
      "l02_morador_alim_acabaram       0.000000\n",
      "l03_morador_saudavel            0.000000\n",
      "p02_tipo_de_domicilio           0.000000\n",
      "p03_ocupacao                    0.000000\n",
      "p06_cozinha                     0.000000\n",
      "vd_zwaz                         0.006869\n",
      "vd_zimc                         1.353208\n",
      "vd_zhfa                        92.327243\n",
      "dtype: float64\n"
     ]
    }
   ],
   "source": [
    "# Calcular a porcentagem de dados faltantes por coluna\n",
    "percent_faltante = (dataset.isnull().sum() / len(dataset)) * 100\n",
    "print(percent_faltante)"
   ]
  },
  {
   "cell_type": "code",
   "execution_count": 28,
   "metadata": {},
   "outputs": [],
   "source": [
    "# Remover colunas desnecessárias\n",
    "colunas_n_quero = ['i004_2m_cabeca', 'i028_6m_mao', 'a06_domicilio']\n",
    "dataset = dataset.drop(columns=colunas_n_quero)"
   ]
  },
  {
   "cell_type": "code",
   "execution_count": 29,
   "metadata": {},
   "outputs": [],
   "source": [
    "# Lista das variáveis finais que você quer manter no novo dataset\n",
    "variaveis_selecionadas = [\n",
    "    \"a00_regiao\", \"b02_sexo\", \"b04_idade\", \"b05_data\", \"b05a_idade_em_meses\", \"l01_morador_alim_acabassem\",\n",
    "    \"l02_morador_alim_acabaram\", \"p02_tipo_de_domicilio\", \"p06_cozinha\", \"p03_ocupacao\", \"a11_situacao\",\n",
    "    \"h14_tosse\", \"h15_respiracao\"\n",
    "]\n"
   ]
  },
  {
   "cell_type": "code",
   "execution_count": 30,
   "metadata": {},
   "outputs": [],
   "source": [
    "# Criar um novo DataFrame com as variáveis selecionadas\n",
    "novo_dataset = dataset[variaveis_selecionadas]"
   ]
  },
  {
   "cell_type": "code",
   "execution_count": 31,
   "metadata": {},
   "outputs": [],
   "source": [
    "# Salvar o dataset filtrado em um novo arquivo CSV\n",
    "novo_dataset.to_csv(\"Dataset_limpo.csv\", index=False)"
   ]
  },
  {
   "cell_type": "code",
   "execution_count": 32,
   "metadata": {},
   "outputs": [
    {
     "data": {
      "text/html": [
       "<div>\n",
       "<style scoped>\n",
       "    .dataframe tbody tr th:only-of-type {\n",
       "        vertical-align: middle;\n",
       "    }\n",
       "\n",
       "    .dataframe tbody tr th {\n",
       "        vertical-align: top;\n",
       "    }\n",
       "\n",
       "    .dataframe thead th {\n",
       "        text-align: right;\n",
       "    }\n",
       "</style>\n",
       "<table border=\"1\" class=\"dataframe\">\n",
       "  <thead>\n",
       "    <tr style=\"text-align: right;\">\n",
       "      <th></th>\n",
       "      <th>a00_regiao</th>\n",
       "      <th>b02_sexo</th>\n",
       "      <th>b04_idade</th>\n",
       "      <th>b05_data</th>\n",
       "      <th>b05a_idade_em_meses</th>\n",
       "      <th>l01_morador_alim_acabassem</th>\n",
       "      <th>l02_morador_alim_acabaram</th>\n",
       "      <th>p02_tipo_de_domicilio</th>\n",
       "      <th>p06_cozinha</th>\n",
       "      <th>p03_ocupacao</th>\n",
       "      <th>a11_situacao</th>\n",
       "      <th>h14_tosse</th>\n",
       "      <th>h15_respiracao</th>\n",
       "    </tr>\n",
       "  </thead>\n",
       "  <tbody>\n",
       "    <tr>\n",
       "      <th>0</th>\n",
       "      <td>Norte</td>\n",
       "      <td>Masculino</td>\n",
       "      <td>1</td>\n",
       "      <td>11092017</td>\n",
       "      <td>22 meses</td>\n",
       "      <td>Sim</td>\n",
       "      <td>Não</td>\n",
       "      <td>Apartamento</td>\n",
       "      <td>Sim</td>\n",
       "      <td>Cedido de outra forma</td>\n",
       "      <td>Urbano</td>\n",
       "      <td>Sim</td>\n",
       "      <td>Não</td>\n",
       "    </tr>\n",
       "    <tr>\n",
       "      <th>1</th>\n",
       "      <td>Norte</td>\n",
       "      <td>Feminino</td>\n",
       "      <td>4</td>\n",
       "      <td>6042015</td>\n",
       "      <td>51 meses</td>\n",
       "      <td>Sim</td>\n",
       "      <td>Não</td>\n",
       "      <td>Apartamento</td>\n",
       "      <td>Sim</td>\n",
       "      <td>Cedido de outra forma</td>\n",
       "      <td>Urbano</td>\n",
       "      <td>Sim</td>\n",
       "      <td>Não</td>\n",
       "    </tr>\n",
       "    <tr>\n",
       "      <th>2</th>\n",
       "      <td>Norte</td>\n",
       "      <td>Feminino</td>\n",
       "      <td>2</td>\n",
       "      <td>21122016</td>\n",
       "      <td>30 meses</td>\n",
       "      <td>Sim</td>\n",
       "      <td>Sim</td>\n",
       "      <td>Casa</td>\n",
       "      <td>Sim</td>\n",
       "      <td>Cedido de outra forma</td>\n",
       "      <td>Urbano</td>\n",
       "      <td>Não</td>\n",
       "      <td>Não</td>\n",
       "    </tr>\n",
       "    <tr>\n",
       "      <th>3</th>\n",
       "      <td>Norte</td>\n",
       "      <td>Masculino</td>\n",
       "      <td>4</td>\n",
       "      <td>13112014</td>\n",
       "      <td>56 meses</td>\n",
       "      <td>Sim</td>\n",
       "      <td>Sim</td>\n",
       "      <td>Casa</td>\n",
       "      <td>Sim</td>\n",
       "      <td>Cedido de outra forma</td>\n",
       "      <td>Urbano</td>\n",
       "      <td>Não</td>\n",
       "      <td>Não</td>\n",
       "    </tr>\n",
       "    <tr>\n",
       "      <th>4</th>\n",
       "      <td>Norte</td>\n",
       "      <td>Feminino</td>\n",
       "      <td>0</td>\n",
       "      <td>2092018</td>\n",
       "      <td>10 meses</td>\n",
       "      <td>Sim</td>\n",
       "      <td>Não</td>\n",
       "      <td>Casa</td>\n",
       "      <td>Não</td>\n",
       "      <td>Próprio de algum morador - já pago</td>\n",
       "      <td>Urbano</td>\n",
       "      <td>Sim</td>\n",
       "      <td>Não</td>\n",
       "    </tr>\n",
       "  </tbody>\n",
       "</table>\n",
       "</div>"
      ],
      "text/plain": [
       "  a00_regiao   b02_sexo  b04_idade  b05_data b05a_idade_em_meses  \\\n",
       "0      Norte  Masculino          1  11092017            22 meses   \n",
       "1      Norte   Feminino          4   6042015            51 meses   \n",
       "2      Norte   Feminino          2  21122016            30 meses   \n",
       "3      Norte  Masculino          4  13112014            56 meses   \n",
       "4      Norte   Feminino          0   2092018            10 meses   \n",
       "\n",
       "  l01_morador_alim_acabassem l02_morador_alim_acabaram p02_tipo_de_domicilio  \\\n",
       "0                        Sim                       Não           Apartamento   \n",
       "1                        Sim                       Não           Apartamento   \n",
       "2                        Sim                       Sim                  Casa   \n",
       "3                        Sim                       Sim                  Casa   \n",
       "4                        Sim                       Não                  Casa   \n",
       "\n",
       "  p06_cozinha                        p03_ocupacao a11_situacao h14_tosse  \\\n",
       "0         Sim               Cedido de outra forma       Urbano       Sim   \n",
       "1         Sim               Cedido de outra forma       Urbano       Sim   \n",
       "2         Sim               Cedido de outra forma       Urbano       Não   \n",
       "3         Sim               Cedido de outra forma       Urbano       Não   \n",
       "4         Não  Próprio de algum morador - já pago       Urbano       Sim   \n",
       "\n",
       "  h15_respiracao  \n",
       "0            Não  \n",
       "1            Não  \n",
       "2            Não  \n",
       "3            Não  \n",
       "4            Não  "
      ]
     },
     "execution_count": 32,
     "metadata": {},
     "output_type": "execute_result"
    }
   ],
   "source": [
    "# Exibir o novo dataset\n",
    "novo_dataset.head()"
   ]
  },
  {
   "cell_type": "markdown",
   "metadata": {},
   "source": [
    "# Distribuição Regional e Geográfica\n",
    "\n",
    "#### Objetivo: Analisar a distribuição da desnutrição e das características socioeconômicas e geográficas nas diferentes regiões do Brasil."
   ]
  },
  {
   "cell_type": "markdown",
   "metadata": {},
   "source": [
    "#### Gráfico 1: Distribuição de Crianças por Região Geográfica"
   ]
  },
  {
   "cell_type": "code",
   "execution_count": 33,
   "metadata": {},
   "outputs": [
    {
     "ename": "ModuleNotFoundError",
     "evalue": "No module named 'seaborn'",
     "output_type": "error",
     "traceback": [
      "\u001b[1;31m---------------------------------------------------------------------------\u001b[0m",
      "\u001b[1;31mModuleNotFoundError\u001b[0m                       Traceback (most recent call last)",
      "Cell \u001b[1;32mIn[33], line 3\u001b[0m\n\u001b[0;32m      1\u001b[0m \u001b[38;5;28;01mimport\u001b[39;00m \u001b[38;5;21;01mpandas\u001b[39;00m \u001b[38;5;28;01mas\u001b[39;00m \u001b[38;5;21;01mpd\u001b[39;00m\n\u001b[0;32m      2\u001b[0m \u001b[38;5;28;01mimport\u001b[39;00m \u001b[38;5;21;01mmatplotlib\u001b[39;00m\u001b[38;5;21;01m.\u001b[39;00m\u001b[38;5;21;01mpyplot\u001b[39;00m \u001b[38;5;28;01mas\u001b[39;00m \u001b[38;5;21;01mplt\u001b[39;00m\n\u001b[1;32m----> 3\u001b[0m \u001b[38;5;28;01mimport\u001b[39;00m \u001b[38;5;21;01mseaborn\u001b[39;00m \u001b[38;5;28;01mas\u001b[39;00m \u001b[38;5;21;01msns\u001b[39;00m\n\u001b[0;32m      5\u001b[0m \u001b[38;5;66;03m# Carregar o dataset\u001b[39;00m\n\u001b[0;32m      6\u001b[0m dataset \u001b[38;5;241m=\u001b[39m pd\u001b[38;5;241m.\u001b[39mread_csv(\u001b[38;5;124m'\u001b[39m\u001b[38;5;124mdataset_filtrado.csv\u001b[39m\u001b[38;5;124m'\u001b[39m)\n",
      "\u001b[1;31mModuleNotFoundError\u001b[0m: No module named 'seaborn'"
     ]
    }
   ],
   "source": [
    "import pandas as pd\n",
    "import matplotlib.pyplot as plt\n",
    "import seaborn as sns\n",
    "\n",
    "# Carregar o dataset\n",
    "dataset = pd.read_csv('dataset_filtrado.csv')\n",
    "\n",
    "# Gráfico 1: Distribuição de Crianças por Região Geográfica\n",
    "plt.figure(figsize=(10, 6))\n",
    "sns.countplot(x='a00_regiao', data=dataset)\n",
    "plt.title('Distribuição de Crianças por Região Geográfica')\n",
    "plt.xlabel('Região Geográfica')\n",
    "plt.ylabel('Número de Crianças')\n",
    "plt.show()"
   ]
  }
 ],
 "metadata": {
  "kernelspec": {
   "display_name": ".venv",
   "language": "python",
   "name": "python3"
  },
  "language_info": {
   "codemirror_mode": {
    "name": "ipython",
    "version": 3
   },
   "file_extension": ".py",
   "mimetype": "text/x-python",
   "name": "python",
   "nbconvert_exporter": "python",
   "pygments_lexer": "ipython3",
   "version": "3.12.3"
  }
 },
 "nbformat": 4,
 "nbformat_minor": 2
}
